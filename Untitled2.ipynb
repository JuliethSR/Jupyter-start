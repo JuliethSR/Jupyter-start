{
 "cells": [
  {
   "cell_type": "markdown",
   "id": "f5c44fdd-ed7a-49ed-a918-8dc5987801b6",
   "metadata": {},
   "source": [
    "# JUPYTER 1\n"
   ]
  },
  {
   "cell_type": "markdown",
   "id": "7778acdc-935c-432a-a743-ed9a816055ec",
   "metadata": {},
   "source": [
    "# Introduction\n",
    "Welcome to this notebook! In this section, we provide an overview of the objectives and structure of this project.\n"
   ]
  },
  {
   "cell_type": "markdown",
   "id": "dc06eef9-12ff-478d-8de1-0751e8da68ea",
   "metadata": {},
   "source": [
    "## Data Science Languages\n",
    "\n",
    "Here are some popular programming languages used in Data Science:\n",
    "\n",
    "- Python\n",
    "- R\n",
    "- SQL\n",
    "- Julia\n",
    "- Scala\n",
    "- Java\n",
    "- C/C++\n",
    "- MATLAB\n",
    "\n",
    "\n"
   ]
  },
  {
   "cell_type": "markdown",
   "id": "da9e5718-879f-4f9d-8b68-80fa0449662e",
   "metadata": {},
   "source": [
    "## Data Science Libraries\n",
    "\n",
    "Some widely used libraries in Data Science are:\n",
    "\n",
    "- **Pandas**: Data manipulation and analysis\n",
    "- **NumPy**: Numerical computations\n",
    "- **Matplotlib**: Data visualization\n",
    "- **Seaborn**: Statistical data visualization\n",
    "- **Scikit-learn**: Machine learning algorithms\n",
    "- **TensorFlow**: Deep learning\n",
    "- **Keras**: High-level neural networks API\n",
    "- **PyTorch**: Deep learning framework\n",
    "- **SciPy**: Scientific and technical computing\n",
    "- **Statsmodels**: Statistical modeling\n"
   ]
  },
  {
   "cell_type": "markdown",
   "id": "49a93e4b-07c5-4053-a863-b7e7f1240abf",
   "metadata": {},
   "source": [
    "## Data Science Tools\n",
    "\n",
    "| Tool           | Description                                      |\n",
    "|----------------|--------------------------------------------------|\n",
    "| Jupyter        | Interactive notebooks for data analysis and visualization |\n",
    "| Spyder         | Python IDE for scientific development           |\n",
    "| RStudio        | Integrated development environment for R        |\n",
    "| Tableau        | Data visualization tool                         |\n",
    "| Power BI       | Business analytics service for interactive data visualization |\n",
    "| Apache Spark   | Distributed data processing framework           |\n",
    "| Hadoop         | Framework for processing large datasets         |\n",
    "| GitHub         | Version control and collaboration platform      |\n",
    "| Excel          | Spreadsheet software for data manipulation      |\n"
   ]
  },
  {
   "cell_type": "markdown",
   "id": "7d4cb152-b85c-4513-a5fc-2f80330e15bb",
   "metadata": {},
   "source": [
    "## Arithmetic Expression Examples\n",
    "\n",
    "In Python, you can perform arithmetic operations using common mathematical operators. Here are some examples:\n",
    "\n",
    "### Addition:\n",
    "```python\n",
    "a = 5\n",
    "b = 3\n",
    "result = a + b  # 5 + 3 = 8\n"
   ]
  },
  {
   "cell_type": "code",
   "execution_count": 2,
   "id": "77ad6958-02d7-4e23-9ab3-326c0e198e79",
   "metadata": {},
   "outputs": [
    {
     "data": {
      "text/plain": [
       "53"
      ]
     },
     "execution_count": 2,
     "metadata": {},
     "output_type": "execute_result"
    }
   ],
   "source": [
    "# Multiply and Add Numbers\n",
    "a = 5\n",
    "b = 10\n",
    "c = 3\n",
    "\n",
    "# Multiplication\n",
    "result_multiply = a * b\n",
    "\n",
    "# Addition\n",
    "result_add = result_multiply + c\n",
    "\n",
    "result_add\n"
   ]
  },
  {
   "cell_type": "code",
   "execution_count": 3,
   "id": "c33cfb09-80ee-4474-886f-243884783e00",
   "metadata": {},
   "outputs": [
    {
     "data": {
      "text/plain": [
       "2.0"
      ]
     },
     "execution_count": 3,
     "metadata": {},
     "output_type": "execute_result"
    }
   ],
   "source": [
    "# Function to convert minutes to hours\n",
    "def minutes_to_hours(minutes):\n",
    "    hours = minutes / 60\n",
    "    return hours\n",
    "\n",
    "# Example usage\n",
    "minutes = 120\n",
    "hours = minutes_to_hours(minutes)\n",
    "hours\n"
   ]
  },
  {
   "cell_type": "markdown",
   "id": "2039d29c-8360-4acd-b15a-8815cc233f3c",
   "metadata": {},
   "source": [
    "## Objectives\n",
    "\n",
    "The objectives of this exercise are to:\n",
    "\n",
    "1. Learn how to work with basic arithmetic expressions in Python.\n",
    "2. Understand how to convert between different time units (e.g., minutes to hours).\n",
    "3. Gain experience with basic Python functions and how to use them.\n",
    "4. Practice formatting and organizing content using Markdown in Jupyter Notebook.\n",
    "5. Explore the usage of data science tools and libraries.\n"
   ]
  },
  {
   "cell_type": "markdown",
   "id": "53da1c95-b80e-4549-ae6d-1d66098e0657",
   "metadata": {},
   "source": [
    "## Author\n",
    "\n",
    "This notebook was created by **Julieth**.\n"
   ]
  },
  {
   "cell_type": "code",
   "execution_count": null,
   "id": "92382a6e-cc27-4321-912e-2a5097cd5f8a",
   "metadata": {},
   "outputs": [],
   "source": []
  }
 ],
 "metadata": {
  "kernelspec": {
   "display_name": "Python 3 (ipykernel)",
   "language": "python",
   "name": "python3"
  },
  "language_info": {
   "codemirror_mode": {
    "name": "ipython",
    "version": 3
   },
   "file_extension": ".py",
   "mimetype": "text/x-python",
   "name": "python",
   "nbconvert_exporter": "python",
   "pygments_lexer": "ipython3",
   "version": "3.9.21"
  }
 },
 "nbformat": 4,
 "nbformat_minor": 5
}
